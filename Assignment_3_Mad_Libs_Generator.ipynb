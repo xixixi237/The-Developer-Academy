{
 "cells": [
  {
   "cell_type": "code",
   "execution_count": null,
   "metadata": {},
   "outputs": [],
   "source": [
    "''' \n",
    "The first code uses the requirements stated in the brief for Assignment 3\n",
    "The second code uses format_map, a library created from prompts and a list to generate the story.\n",
    "'''\n"
   ]
  },
  {
   "cell_type": "code",
   "execution_count": null,
   "metadata": {},
   "outputs": [],
   "source": [
    "# define the prompts\n",
    "prompts = ['colour', 'size', 'adjective1', 'adjective2', 'noun', 'time', 'location', 'number', 'town_name', 'animal', 'animal_name']\n",
    "\n",
    "# ask for user input for each prompt and store in a dictionary\n",
    "values = {prompt: input(f\"Enter a {prompt}: \") for prompt in prompts}\n",
    "\n",
    "# construct the story using concatenation\n",
    "story1 = \"In the \" + values['size'] + \" town of \" + values['town_name'] + \", at \" + values['time'] + \", a \" + values['adjective1'] + \" \" + values['colour'] + \" \" + values['animal'] + \" appeared. It sat on the \" + values['adjective2'] + \" \" + values['location'] + \", gazing at the \" + values['number'] + \" twinkling stars. The \" + values['animal'] + \", known as \" + values['animal_name'] + \", had a habit of visiting this location every night. Everyone in town knew that seeing \" + values['animal_name'] + \" under the moonlight brought good luck.\"\n",
    "\n",
    "print(story1)"
   ]
  },
  {
   "cell_type": "code",
   "execution_count": null,
   "metadata": {},
   "outputs": [],
   "source": [
    "# define the prompts names\n",
    "prompts = ['colour', 'size', 'adjective1', 'adjective2', 'noun', 'time', 'location', 'number', 'town_name', 'animal', 'animal_name']\n",
    "\n",
    "# ask for user input for each prompt and store in a dictionary\n",
    "values = {i: input(f\"Enter a {i}: \") for i in prompts}\n",
    "\n",
    "# complete the story template\n",
    "story1 = \"In the {size} town of {town_name}, at {time}, a {adjective1} {colour} {animal} appeared. It sat on the {adjective2} {location}, gazing at the {number} twinkling stars. The {animal}, known as {animal_name}, had a habit of visiting this location every night. Everyone in town knew that seeing {animal_name} under the moonlight because it brought good luck.\"\n",
    "\n",
    "# format the story with the values\n",
    "formatted_story = story1.format_map(values)\n",
    "print(formatted_story)"
   ]
  }
 ],
 "metadata": {
  "kernelspec": {
   "display_name": "Python 3",
   "language": "python",
   "name": "python3"
  },
  "language_info": {
   "codemirror_mode": {
    "name": "ipython",
    "version": 3
   },
   "file_extension": ".py",
   "mimetype": "text/x-python",
   "name": "python",
   "nbconvert_exporter": "python",
   "pygments_lexer": "ipython3",
   "version": "3.10.9"
  }
 },
 "nbformat": 4,
 "nbformat_minor": 2
}
