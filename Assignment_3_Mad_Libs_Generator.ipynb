{
 "cells": [
  {
   "cell_type": "code",
   "execution_count": null,
   "metadata": {},
   "outputs": [],
   "source": [
    "''' \n",
    "The first code uses the requirements stated in the brief for Assignment 3\n",
    "The second code uses format_map, a library created from prompts and a list to generate the story.\n",
    "'''"
   ]
  },
  {
   "cell_type": "code",
   "execution_count": 2,
   "metadata": {},
   "outputs": [
    {
     "name": "stdout",
     "output_type": "stream",
     "text": [
      "In the small town of Athens, at midnight, a beautiful blue cat appeared. It sat on the cold grass, gazing at the 9 twinkling stars. The cat, known as Percy, had a habit of visiting this location every night. Everyone in town knew that seeing Percy under the moonlight brought good luck.\n"
     ]
    }
   ],
   "source": [
    "# define the prompts\n",
    "prompts = ['colour', 'size', 'adjective1', 'adjective2', 'noun', 'time', 'number', 'town_name', 'animal', 'animal_name']\n",
    "\n",
    "colour = input(\"Enter a colour\")\n",
    "size = input(\"Enter a size\")\n",
    "adjective1 = input(\"Enter an adjective\")\n",
    "adjective2 = input(\"Enter another adjective\")\n",
    "noun = input(\"Enter a noun\")\n",
    "time = input(\"Enter a time of day\")\n",
    "number = input(\"Enter a number\")\n",
    "town_name = input(\"Enter a town name\")\n",
    "animal = input(\"Enter an animal\")\n",
    "animal_name = input(\"Enter an animal name\")\n",
    "\n",
    "\n",
    "# construct the story using concatenation\n",
    "story1 = \"In the \" + size + \" town of \" + town_name + \", at \" + time + \", a \" + adjective1 + \" \" + colour + \" \" + animal + \" appeared. It sat on the \" + adjective2 + \" \" + noun + \", gazing at the \" + number + \" twinkling stars. The \" + animal + \", known as \" + animal_name + \", had a habit of visiting this location every night. Everyone in town knew that seeing \" + animal_name + \" under the moonlight brought good luck.\"\n",
    "\n",
    "print(story1)"
   ]
  },
  {
   "cell_type": "code",
   "execution_count": 5,
   "metadata": {},
   "outputs": [
    {
     "name": "stdout",
     "output_type": "stream",
     "text": [
      "In the small town of Athens, at midnight, a brilliant white cat appeared. It sat on the snowy grass, gazing at the 9 twinkling stars. The cat, known as Chioni, had a habit of visiting this location every night. Everyone in town knew that seeing Chioni under the moonlight because it brought good luck.\n"
     ]
    }
   ],
   "source": [
    "# define the prompts names\n",
    "prompts = ['colour', 'size', 'adjective1', 'adjective2', 'noun', 'time', 'number', 'town_name', 'animal', 'animal_name']\n",
    "\n",
    "# ask for user input for each prompt and store in a dictionary\n",
    "values = {i: input(f\"Enter a {i}: \") for i in prompts}\n",
    "\n",
    "# complete the story template\n",
    "story1 = \"In the {size} town of {town_name}, at {time}, a {adjective1} {colour} {animal} appeared. It sat on the {adjective2} {noun}, gazing at the {number} twinkling stars. The {animal}, known as {animal_name}, had a habit of visiting this location every night. Everyone in town knew that seeing {animal_name} under the moonlight because it brought good luck.\"\n",
    "\n",
    "# format the story with the values\n",
    "formatted_story = story1.format_map(values)\n",
    "print(formatted_story)"
   ]
  }
 ],
 "metadata": {
  "kernelspec": {
   "display_name": "Python 3",
   "language": "python",
   "name": "python3"
  },
  "language_info": {
   "codemirror_mode": {
    "name": "ipython",
    "version": 3
   },
   "file_extension": ".py",
   "mimetype": "text/x-python",
   "name": "python",
   "nbconvert_exporter": "python",
   "pygments_lexer": "ipython3",
   "version": "3.10.9"
  }
 },
 "nbformat": 4,
 "nbformat_minor": 2
}
