{
 "cells": [
  {
   "cell_type": "code",
   "execution_count": null,
   "metadata": {},
   "outputs": [],
   "source": [
    "import random # Load the random module\n",
    "\n",
    "def diceroll(): # Define function\n",
    "    result = random.randint(1, 6) # Use randint function of random module to generate random number between values 1-6\n",
    "    return result \n",
    "\n",
    "while True: # Commence loop\n",
    "    result = diceroll() # Run function and save result\n",
    "    print(f\"Rolling the dice...you rolled a {result}!\")\n",
    "\n",
    "    rollagain = input(\"Would you like to roll again? (Y?N)\").lower() # New variable to log decision to play again\n",
    "    if rollagain != \"y\": # Check decision to play again\n",
    "        print(\"Thanks for playing!\")\n",
    "        break # End loop"
   ]
  },
  {
   "cell_type": "code",
   "execution_count": null,
   "metadata": {},
   "outputs": [],
   "source": [
    "# Improved with provision of incorrect input for re-roll\n",
    "\n",
    "import random # Load the random module\n",
    "\n",
    "def diceroll(): # Define function\n",
    "    result = random.randint(1, 6) #use randint function of random module to generate random number between values 1-6\n",
    "    return result \n",
    "\n",
    "def get_decision(): # Define function\n",
    "    while True: # \n",
    "        decision = input(\"Would you like to roll again? Y/N\").lower() # lower case function to avoid caps errors\n",
    "        if decision in [\"y\", \"n\"]: # Check decision exists in list\n",
    "            return decision # Return decision if = True\n",
    "        else:\n",
    "            print(\"Invalid input. please enter 'Y' or 'N'\") # Notify Incorrect input\n",
    "\n",
    "while True: # Commence loop\n",
    "    result = diceroll() # Run function\n",
    "    print(f\"Rolling the dice...you rolled a {result}!\")\n",
    "\n",
    "    rollagain = get_decision() # Run the function\n",
    "    if rollagain != \"y\": # Check decision to play again\n",
    "        print(\"Thanks for playing!\")\n",
    "        break # End loop"
   ]
  }
 ],
 "metadata": {
  "kernelspec": {
   "display_name": "Python 3",
   "language": "python",
   "name": "python3"
  },
  "language_info": {
   "codemirror_mode": {
    "name": "ipython",
    "version": 3
   },
   "file_extension": ".py",
   "mimetype": "text/x-python",
   "name": "python",
   "nbconvert_exporter": "python",
   "pygments_lexer": "ipython3",
   "version": "3.10.9"
  }
 },
 "nbformat": 4,
 "nbformat_minor": 2
}
