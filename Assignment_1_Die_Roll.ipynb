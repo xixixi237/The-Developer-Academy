{
 "cells": [
  {
   "cell_type": "code",
   "execution_count": null,
   "metadata": {},
   "outputs": [],
   "source": [
    "import random # Load the random module\n",
    "\n",
    "# Function to generate random die roll\n",
    "\n",
    "def diceroll():\n",
    "    result = random.randint(1, 6) \n",
    "    return result \n",
    "\n",
    "# Loop game \n",
    "while True: \n",
    "    result = diceroll() \n",
    "    print(f\"Rolling the dice...you rolled a {result}!\")\n",
    "\n",
    "    rollagain = input(\"Would you like to roll again? (Y?N)\").lower()\n",
    "    if rollagain != \"y\": \n",
    "        print(\"Thanks for playing!\")\n",
    "        break"
   ]
  },
  {
   "cell_type": "code",
   "execution_count": null,
   "metadata": {},
   "outputs": [],
   "source": [
    "# Improved with provision of incorrect input for re-roll\n",
    "\n",
    "import random # Load the random module\n",
    "\n",
    "# Function to generate random die roll\n",
    "def diceroll():\n",
    "    result = random.randint(1, 6)\n",
    "    return result \n",
    "\n",
    "# Function to accept game\n",
    "def get_decision():\n",
    "    while True: # \n",
    "        decision = input(\"Would you like to roll again? Y/N\").lower()\n",
    "        if decision in [\"y\", \"n\"]: \n",
    "            return decision\n",
    "        else:\n",
    "            print(\"Invalid input. please enter 'Y' or 'N'\")\n",
    "\n",
    "# Loop game \n",
    "while True:\n",
    "    result = diceroll()\n",
    "    print(f\"Rolling the dice...you rolled a {result}!\")\n",
    "\n",
    "    rollagain = get_decision()\n",
    "    if rollagain != \"y\":\n",
    "        print(\"Thanks for playing!\")\n",
    "        break"
   ]
  }
 ],
 "metadata": {
  "kernelspec": {
   "display_name": "Python 3",
   "language": "python",
   "name": "python3"
  },
  "language_info": {
   "codemirror_mode": {
    "name": "ipython",
    "version": 3
   },
   "file_extension": ".py",
   "mimetype": "text/x-python",
   "name": "python",
   "nbconvert_exporter": "python",
   "pygments_lexer": "ipython3",
   "version": "3.10.9"
  }
 },
 "nbformat": 4,
 "nbformat_minor": 2
}
