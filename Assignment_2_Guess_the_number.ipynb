{
 "cells": [
  {
   "cell_type": "code",
   "execution_count": 5,
   "metadata": {},
   "outputs": [
    {
     "name": "stdout",
     "output_type": "stream",
     "text": [
      "Let's play a game!\n",
      "Your guess of 50 is too high!\n",
      "Your guess of 25 is too low!\n",
      "Your guess of 38 is too low!\n",
      "Your guess of 44 is too high!\n",
      "Wahoo!! You guessed right! The secret number is 41!\n"
     ]
    }
   ],
   "source": [
    "# first iteration\n",
    "\n",
    "import random #load random module\n",
    "\n",
    "# set our range of number by creating variables\n",
    "min = 1\n",
    "max = 99\n",
    "\n",
    "# Signify the start of the game\n",
    "print(\"Let's play a game!\")\n",
    "\n",
    "# generate the number in secret\n",
    "result = random.randint(min, max)\n",
    "\n",
    "#request the user to enter their guess as to what the number may be\n",
    "guess = int(input(f\"I've generated a secret number between {min} and {max}, can you guess what it is?\"))\n",
    "\n",
    "while True: # commence loop\n",
    "    if guess > result: #check if guess is too high\n",
    "        print(f\"Your guess of {guess} is too high!\")\n",
    "        guess = int(input(f\"{guess} too high! guess again!\"))\n",
    "    elif guess < result: #check if guess is too low\n",
    "        print(f\"Your guess of {guess} is too low!\")\n",
    "        guess = int(input(f\"{guess} too low! guess again!\"))\n",
    "    else: \n",
    "        print(f\"Wahoo!! You guessed right! The secret number is {result}!\")\n",
    "        break #end loop\n",
    "\n",
    "\n",
    "\n",
    "\n",
    "    "
   ]
  },
  {
   "cell_type": "code",
   "execution_count": 6,
   "metadata": {},
   "outputs": [
    {
     "name": "stdout",
     "output_type": "stream",
     "text": [
      "Let's play a game!\n",
      "Your guess 50 is too low!\n",
      "Your guess 75 is too low!\n",
      "That's not a valid integer. Please try again.\n",
      "Your guess 90 is too high!\n",
      "Your guess 82 is too high!\n",
      "That's not a valid integer. Please try again.\n",
      "Your guess 79 is too high!\n",
      "Your guess 77 is too low!\n",
      "Your guess 76 is too low!\n",
      "Wahoo!! You guessed right! The secret number is 78!\n"
     ]
    }
   ],
   "source": [
    "# re-written with incorrect input redundancy and use of functions however this does not display an input message advising the previous\n",
    "# guess or whether it was high or low. instead this is stated as print() only\n",
    "\n",
    "#load random module\n",
    "import random\n",
    "\n",
    "# Set our range of number by creating variables\n",
    "min = 1\n",
    "max = 99\n",
    "\n",
    "# Signify the start of the game\n",
    "print(\"Let's play a game!\")\n",
    "\n",
    "# Generate the number in secret\n",
    "result = random.randint(min, max)\n",
    "\n",
    "def get_guess():\n",
    "    while True:\n",
    "        try:\n",
    "            # Request the user to enter their guess\n",
    "            return int(input(f\"Guess a number between {min} and {max}: \"))\n",
    "        except ValueError: # Redundancy for incorrect input\n",
    "            print(\"That's not a valid integer. Please try again.\")\n",
    "\n",
    "# Request the user to enter their first guess\n",
    "guess = get_guess()\n",
    "\n",
    "while True:  # Commence loop\n",
    "    if guess > result:  # Check if guess is too high\n",
    "        print(f\"Your guess {guess} is too high!\") \n",
    "    elif guess < result:  # Check if guess is too low\n",
    "        print(f\"Your guess {guess} is too low!\") \n",
    "    else:  # Ergo must be equal to result\n",
    "        print(f\"Wahoo!! You guessed right! The secret number is {result}!\") # Display result and congrats\n",
    "        break  # End loop if no conditions are met and guess is correct\n",
    "\n",
    "    # Get the next guess if line 29 or 31 conditions are met\n",
    "    guess = get_guess()\n"
   ]
  },
  {
   "cell_type": "code",
   "execution_count": 7,
   "metadata": {},
   "outputs": [
    {
     "name": "stdout",
     "output_type": "stream",
     "text": [
      "Let's play a game!\n",
      "Your guess 50 is too high!\n",
      "Your guess 25 is too low!\n",
      "Your guess 37 is too low!\n",
      "That's not a valid integer. Please try again.\n",
      "Your guess 44 is too high!\n",
      "Wahoo!! You guessed right! The secret number is 40!\n"
     ]
    }
   ],
   "source": [
    "# now includes redundancy for incorrect input and guessing information (high/low) in both print and input through use of a boolean \n",
    "# for the function to account for the first and subsqequent guesses that have different requiredment\n",
    "\n",
    "import random\n",
    "\n",
    "# Set our range of numbers by creating variables\n",
    "min = 1\n",
    "max = 99\n",
    "\n",
    "# Signify the start of the game\n",
    "print(\"Let's play a game!\")\n",
    "\n",
    "# Generate the number in secret\n",
    "result = random.randint(min, max)\n",
    "\n",
    "def get_guess(first_attempt=True, message=''):\n",
    "    while True:\n",
    "        try:\n",
    "            # Request the user to enter their guess\n",
    "            prompt = f\"Guess a number between {min} and {max}: \" if first_attempt else message #check to see if 1st attempt, if not: line 31/34\n",
    "            return int(input(prompt))\n",
    "        except ValueError:\n",
    "            print(\"That's not a valid integer. Please try again.\")\n",
    "\n",
    "# Request the user to enter their first guess\n",
    "guess = get_guess()\n",
    "\n",
    "while True:  # Commence loop\n",
    "    if guess > result:  # Check if guess is too high\n",
    "        print(f\"Your guess {guess} is too high!\")\n",
    "        guess = get_guess(False, f\"Your last guess was {guess}, which is too high. Try again: \")\n",
    "    elif guess < result:  # Check if guess is too low\n",
    "        print(f\"Your guess {guess} is too low!\")\n",
    "        guess = get_guess(False, f\"Your last guess was {guess}, which is too low. Try again: \")\n",
    "    else:  # Check if guess is correct\n",
    "        print(f\"Wahoo!! You guessed right! The secret number is {result}!\")\n",
    "        break  # End loop if guess is correct\n"
   ]
  }
 ],
 "metadata": {
  "kernelspec": {
   "display_name": "Python 3",
   "language": "python",
   "name": "python3"
  },
  "language_info": {
   "codemirror_mode": {
    "name": "ipython",
    "version": 3
   },
   "file_extension": ".py",
   "mimetype": "text/x-python",
   "name": "python",
   "nbconvert_exporter": "python",
   "pygments_lexer": "ipython3",
   "version": "3.10.9"
  }
 },
 "nbformat": 4,
 "nbformat_minor": 2
}
